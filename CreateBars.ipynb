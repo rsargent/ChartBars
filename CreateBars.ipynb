{
 "cells": [
  {
   "cell_type": "code",
   "execution_count": 36,
   "metadata": {},
   "outputs": [],
   "source": [
    "import os\n",
    "\n",
    "from PIL import Image\n",
    "from matplotlib import colors as mcolors\n",
    "import numpy as np"
   ]
  },
  {
   "cell_type": "code",
   "execution_count": 44,
   "metadata": {},
   "outputs": [],
   "source": [
    "dir = 'bars'\n",
    "\n",
    "def createBar(color, pct):\n",
    "    pixels = np.zeros([1,100,4], dtype=np.uint8)\n",
    "    rgba = np.array(mcolors.to_rgba(color)) * 255\n",
    "    for i in range(0, pct):\n",
    "        for ch in range(0, 4):\n",
    "            pixels[0, i, ch] = rgba[ch]\n",
    "    return Image.fromarray(pixels)\n",
    "\n",
    "\n",
    "def writeBars(color):\n",
    "    destDir = '%s/%s' % (dir, color)\n",
    "    os.makedirs(destDir, exist_ok=True)\n",
    "    for pct in range(0, 101):\n",
    "        dest = '%s/%s%03d.png' % (destDir, color, pct)\n",
    "        createBar(color, pct).save(dest)\n",
    "writeBars('red')\n",
    "writeBars('orange')\n",
    "writeBars('yellow')\n",
    "writeBars('green')\n",
    "writeBars('blue')\n",
    "writeBars('indigo')\n",
    "writeBars('violet')\n",
    "writeBars('white')\n",
    "writeBars('grey')\n",
    "writeBars('black')\n",
    "\n"
   ]
  },
  {
   "cell_type": "code",
   "execution_count": 45,
   "metadata": {},
   "outputs": [
    {
     "name": "stdout",
     "output_type": "stream",
     "text": [
      "\u001b[34mblack\u001b[m\u001b[m  \u001b[34mblue\u001b[m\u001b[m   \u001b[34mgreen\u001b[m\u001b[m  \u001b[34mgrey\u001b[m\u001b[m   \u001b[34mindigo\u001b[m\u001b[m \u001b[34morange\u001b[m\u001b[m \u001b[34mred\u001b[m\u001b[m    \u001b[34mviolet\u001b[m\u001b[m \u001b[34mwhite\u001b[m\u001b[m  \u001b[34myellow\u001b[m\u001b[m\r\n"
     ]
    }
   ],
   "source": [
    "!ls bars"
   ]
  },
  {
   "cell_type": "markdown",
   "metadata": {},
   "source": []
  }
 ],
 "metadata": {
  "kernelspec": {
   "display_name": "Python 3",
   "language": "python",
   "name": "python3"
  },
  "language_info": {
   "codemirror_mode": {
    "name": "ipython",
    "version": 3
   },
   "file_extension": ".py",
   "mimetype": "text/x-python",
   "name": "python",
   "nbconvert_exporter": "python",
   "pygments_lexer": "ipython3",
   "version": "3.6.4"
  }
 },
 "nbformat": 4,
 "nbformat_minor": 2
}
